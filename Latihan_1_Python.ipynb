{
  "nbformat": 4,
  "nbformat_minor": 0,
  "metadata": {
    "colab": {
      "provenance": []
    },
    "kernelspec": {
      "name": "python3",
      "display_name": "Python 3"
    },
    "language_info": {
      "name": "python"
    }
  },
  "cells": [
    {
      "cell_type": "code",
      "execution_count": 1,
      "metadata": {
        "id": "N2Xhgt25hdhJ"
      },
      "outputs": [],
      "source": [
        "# Latihan operator 1"
      ]
    },
    {
      "cell_type": "code",
      "source": [
        "# Penjumlahan\n",
        "print('Penjumlahan')\n",
        "print(3+3)\n",
        "\n",
        "# Pengurangan\n",
        "print('Pengurangan')\n",
        "print('-'*10)\n",
        "print(3-4)\n",
        "\n",
        "# Perkalian\n",
        "print('Perkalian')\n",
        "print('-'*10)\n",
        "print(3*4)\n",
        "\n",
        "# Pembagian\n",
        "print('Pembagian')\n",
        "print('-'*10)\n",
        "print(3/4)\n",
        "\n",
        "# Modulus\n",
        "print('Modulus')\n",
        "print('-'*10)\n",
        "print(4%3)\n",
        "\n",
        "# Perpangkatan\n",
        "print('Perpangkatan')\n",
        "print('-'*10)\n",
        "print(3**4)\n",
        "\n",
        "# Pembagian dengan hasil pembulatan flooring\n",
        "print('Pembagian pembulatan flooring')\n",
        "print('-'*10)\n",
        "print(4//3)"
      ],
      "metadata": {
        "colab": {
          "base_uri": "https://localhost:8080/"
        },
        "id": "NjSKEiknhmBX",
        "outputId": "918cd585-e1e5-48dd-a5a5-053503de2e2c"
      },
      "execution_count": 2,
      "outputs": [
        {
          "output_type": "stream",
          "name": "stdout",
          "text": [
            "Penjumlahan\n",
            "6\n",
            "Pengurangan\n",
            "----------\n",
            "-1\n",
            "Perkalian\n",
            "----------\n",
            "12\n",
            "Pembagian\n",
            "----------\n",
            "0.75\n",
            "Modulus\n",
            "----------\n",
            "1\n",
            "Perpangkatan\n",
            "----------\n",
            "81\n",
            "Pembagian pembulatan flooring\n",
            "----------\n",
            "1\n"
          ]
        }
      ]
    },
    {
      "cell_type": "code",
      "source": [
        "# Latihan operator 2"
      ],
      "metadata": {
        "id": "C_Br4mYEhs5K"
      },
      "execution_count": 3,
      "outputs": []
    },
    {
      "cell_type": "code",
      "source": [
        "# Penjumlahan\n",
        "print('Penjumlahan')\n",
        "x=10\n",
        "x=x+10\n",
        "print(x)\n",
        "x=10\n",
        "x+=10\n",
        "print(x)\n",
        "print('-'*10)\n",
        "\n",
        "# Pengurangan\n",
        "print('Pengurangan')\n",
        "x=10\n",
        "x=x-10\n",
        "print(x)\n",
        "x=10\n",
        "x-=8\n",
        "print(x)\n",
        "print('-'*10)\n",
        "\n",
        "# Perkalian\n",
        "print('Perkalian')\n",
        "x=10\n",
        "x=x*10\n",
        "print(x)\n",
        "x=10\n",
        "x*=8\n",
        "print(x)\n",
        "print('-'*10)\n",
        "\n",
        "# Pembagian\n",
        "print('Pembagian')\n",
        "x=10\n",
        "x=x/10\n",
        "print(x)\n",
        "x=10\n",
        "x/=8\n",
        "print(x)\n",
        "print('-'*10)\n",
        "\n",
        "# Modulus\n",
        "print('Modulus')\n",
        "x=10\n",
        "x=x%10\n",
        "print(x)\n",
        "x=10\n",
        "x%=8\n",
        "print(x)\n",
        "print('-'*10)\n",
        "\n",
        "# Pembagian Flooring\n",
        "print('Pembagian Flooring')\n",
        "x=10\n",
        "x=x//10\n",
        "print(x)\n",
        "x=10\n",
        "x//=8\n",
        "print(x)\n",
        "print('-'*10)\n",
        "\n",
        "# Perpangkatan\n",
        "print('Perpangkatan')\n",
        "x=10\n",
        "x=x**10\n",
        "print(x)\n",
        "x=10\n",
        "x**=8\n",
        "print(x)\n",
        "print('-'*10)"
      ],
      "metadata": {
        "colab": {
          "base_uri": "https://localhost:8080/"
        },
        "id": "j066w-a0h4Kc",
        "outputId": "118172c5-48b4-4882-ad31-99fd857bbf95"
      },
      "execution_count": 4,
      "outputs": [
        {
          "output_type": "stream",
          "name": "stdout",
          "text": [
            "Penjumlahan\n",
            "20\n",
            "20\n",
            "----------\n",
            "Pengurangan\n",
            "0\n",
            "2\n",
            "----------\n",
            "Perkalian\n",
            "100\n",
            "80\n",
            "----------\n",
            "Pembagian\n",
            "1.0\n",
            "1.25\n",
            "----------\n",
            "Modulus\n",
            "0\n",
            "2\n",
            "----------\n",
            "Pembagian Flooring\n",
            "1\n",
            "1\n",
            "----------\n",
            "Perpangkatan\n",
            "10000000000\n",
            "100000000\n",
            "----------\n"
          ]
        }
      ]
    },
    {
      "cell_type": "code",
      "source": [
        "# Latihan operator 3"
      ],
      "metadata": {
        "id": "3TguAWfmlpG5"
      },
      "execution_count": 5,
      "outputs": []
    },
    {
      "cell_type": "code",
      "source": [
        "print(10==10)\n",
        "print(10!=10)\n",
        "print(10>10)\n",
        "print(10<10)\n",
        "print(10>=10)\n",
        "print(10<=10)"
      ],
      "metadata": {
        "colab": {
          "base_uri": "https://localhost:8080/"
        },
        "id": "cRHMg2rtl6JF",
        "outputId": "395093b7-3bc0-4c5f-913c-70572bba4429"
      },
      "execution_count": 6,
      "outputs": [
        {
          "output_type": "stream",
          "name": "stdout",
          "text": [
            "True\n",
            "False\n",
            "False\n",
            "False\n",
            "True\n",
            "True\n"
          ]
        }
      ]
    },
    {
      "cell_type": "code",
      "source": [
        "# Latihan operator 4"
      ],
      "metadata": {
        "id": "Q5hxINpOmTyz"
      },
      "execution_count": 7,
      "outputs": []
    },
    {
      "cell_type": "code",
      "source": [
        "print(True and True)\n",
        "print(False or True)\n",
        "print(not True and False)"
      ],
      "metadata": {
        "colab": {
          "base_uri": "https://localhost:8080/"
        },
        "id": "NxDq6fBJmcW5",
        "outputId": "6c490b65-91d9-4196-8773-063d0d974fd1"
      },
      "execution_count": 8,
      "outputs": [
        {
          "output_type": "stream",
          "name": "stdout",
          "text": [
            "True\n",
            "True\n",
            "False\n"
          ]
        }
      ]
    },
    {
      "cell_type": "code",
      "source": [
        "# Latihan operator 5"
      ],
      "metadata": {
        "id": "0ctUz3AemtjW"
      },
      "execution_count": 9,
      "outputs": []
    },
    {
      "cell_type": "code",
      "source": [
        "a=(8,9,10,11,12,13)\n",
        "b=9\n",
        "\n",
        "print(b in a)\n",
        "\n",
        "print('-'*10)\n",
        "a=(8,9,10,11,12,13)\n",
        "b=14\n",
        "print(b not in a)"
      ],
      "metadata": {
        "colab": {
          "base_uri": "https://localhost:8080/"
        },
        "id": "wxlzoVRUneJM",
        "outputId": "ac1b766a-269a-403f-e54c-c226ce47395c"
      },
      "execution_count": 10,
      "outputs": [
        {
          "output_type": "stream",
          "name": "stdout",
          "text": [
            "True\n",
            "----------\n",
            "True\n"
          ]
        }
      ]
    },
    {
      "cell_type": "code",
      "source": [
        "# Latihan 1"
      ],
      "metadata": {
        "id": "PZZjEGRang2V"
      },
      "execution_count": 11,
      "outputs": []
    },
    {
      "cell_type": "code",
      "source": [
        "# Membuat variabel 1\n",
        "kalimat1='ini adalah variabel1'\n",
        "bilangan1=2\n",
        "bilangan2=6\n",
        "bilangan3=8\n",
        "bilangan4=2j+2"
      ],
      "metadata": {
        "id": "g570NHYLntAJ"
      },
      "execution_count": 12,
      "outputs": []
    },
    {
      "cell_type": "code",
      "source": [
        "# menampilkan variabel 1\n",
        "print(kalimat1)\n",
        "print(bilangan1)\n",
        "print(bilangan2)\n",
        "print(bilangan3)\n",
        "print(bilangan4)"
      ],
      "metadata": {
        "id": "ps2ejnhFqINF",
        "colab": {
          "base_uri": "https://localhost:8080/"
        },
        "outputId": "23a89ff4-800a-4e30-af9f-53a521874e55"
      },
      "execution_count": 13,
      "outputs": [
        {
          "output_type": "stream",
          "name": "stdout",
          "text": [
            "ini adalah variabel1\n",
            "2\n",
            "6\n",
            "8\n",
            "(2+2j)\n"
          ]
        }
      ]
    },
    {
      "cell_type": "code",
      "source": [
        "# Membuat variabel 2\n",
        "kalimat2='ini adalah variabel 2'\n",
        "bilangan5=3\n",
        "bilangan6=5\n",
        "bilangan7=7\n",
        "bilangan8=1j+3"
      ],
      "metadata": {
        "id": "VeX8vazSof-2"
      },
      "execution_count": 14,
      "outputs": []
    },
    {
      "cell_type": "code",
      "source": [
        "# menampilkan variabel 2\n",
        "print(kalimat2)\n",
        "print(bilangan5)\n",
        "print(bilangan6)\n",
        "print(bilangan7)\n",
        "print(bilangan8)"
      ],
      "metadata": {
        "id": "QZjhQEPVqK1r",
        "colab": {
          "base_uri": "https://localhost:8080/"
        },
        "outputId": "b0a65245-83c2-457c-9896-87c7f1d5f578"
      },
      "execution_count": 15,
      "outputs": [
        {
          "output_type": "stream",
          "name": "stdout",
          "text": [
            "ini adalah variabel 2\n",
            "3\n",
            "5\n",
            "7\n",
            "(3+1j)\n"
          ]
        }
      ]
    },
    {
      "cell_type": "code",
      "source": [
        "# Membuat variabel 3\n",
        "kalimat3='ini adalah variabel3'\n",
        "bilangan9=10\n",
        "bilangan10=12\n",
        "bilangan11=14\n",
        "bilangan12=5j+10"
      ],
      "metadata": {
        "id": "rzSs0svloog2"
      },
      "execution_count": 16,
      "outputs": []
    },
    {
      "cell_type": "code",
      "source": [
        "# menampilkan variabel 3\n",
        "print(kalimat3)\n",
        "print(bilangan9)\n",
        "print(bilangan10)\n",
        "print(bilangan11)\n",
        "print(bilangan12)"
      ],
      "metadata": {
        "id": "9OPg9MKXqY5w",
        "colab": {
          "base_uri": "https://localhost:8080/"
        },
        "outputId": "61bfcf45-94e4-4831-8134-dfa83dd16b8c"
      },
      "execution_count": 17,
      "outputs": [
        {
          "output_type": "stream",
          "name": "stdout",
          "text": [
            "ini adalah variabel3\n",
            "10\n",
            "12\n",
            "14\n",
            "(10+5j)\n"
          ]
        }
      ]
    },
    {
      "cell_type": "code",
      "source": [
        "# Membuat variabel 4\n",
        "kalimat4='ini adalah variabel4'\n",
        "bilangan13=15\n",
        "bilangan14=20\n",
        "bilangan15=25\n",
        "bilangan16=2j+15"
      ],
      "metadata": {
        "id": "paCyFZt-pEMw"
      },
      "execution_count": 18,
      "outputs": []
    },
    {
      "cell_type": "code",
      "source": [
        "# menampilkan variabel 4\n",
        "print(kalimat4)\n",
        "print(bilangan13)\n",
        "print(bilangan14)\n",
        "print(bilangan15)\n",
        "print(bilangan16)"
      ],
      "metadata": {
        "id": "w_5hFULBqV38",
        "colab": {
          "base_uri": "https://localhost:8080/"
        },
        "outputId": "2925b6ae-f7e3-4fb3-e48a-53f9bf59b4b2"
      },
      "execution_count": 19,
      "outputs": [
        {
          "output_type": "stream",
          "name": "stdout",
          "text": [
            "ini adalah variabel4\n",
            "15\n",
            "20\n",
            "25\n",
            "(15+2j)\n"
          ]
        }
      ]
    },
    {
      "cell_type": "code",
      "source": [
        "# Membuat variabel 5\n",
        "kalimat5='ini adalah variabel5'\n",
        "bilangan17=50\n",
        "bilangan18=100\n",
        "bilangan19=150\n",
        "bilangan20=25j+50"
      ],
      "metadata": {
        "id": "lWDeEPEkpETM"
      },
      "execution_count": 20,
      "outputs": []
    },
    {
      "cell_type": "code",
      "source": [
        "# menampilkan variabel 5\n",
        "print(kalimat5)\n",
        "print(bilangan17)\n",
        "print(bilangan18)\n",
        "print(bilangan19)\n",
        "print(bilangan20)"
      ],
      "metadata": {
        "colab": {
          "base_uri": "https://localhost:8080/"
        },
        "id": "lgOHU0eqpZbu",
        "outputId": "c9453374-a4d0-4e3b-f321-3041ee324497"
      },
      "execution_count": 21,
      "outputs": [
        {
          "output_type": "stream",
          "name": "stdout",
          "text": [
            "ini adalah variabel5\n",
            "50\n",
            "100\n",
            "150\n",
            "(50+25j)\n"
          ]
        }
      ]
    },
    {
      "cell_type": "code",
      "source": [
        "# Latihan 2"
      ],
      "metadata": {
        "id": "IYzZ_PDDpZhJ"
      },
      "execution_count": 22,
      "outputs": []
    },
    {
      "cell_type": "code",
      "source": [
        "# menampilan tipe data\n",
        "print(type(kalimat1))\n",
        "print(type(bilangan1))\n",
        "print(type(bilangan2))\n",
        "print(type(bilangan3))\n",
        "print(type(bilangan4))"
      ],
      "metadata": {
        "id": "M1mLstHYpZs9",
        "colab": {
          "base_uri": "https://localhost:8080/"
        },
        "outputId": "c67c19d9-3a35-42af-e443-c67385dc2843"
      },
      "execution_count": 23,
      "outputs": [
        {
          "output_type": "stream",
          "name": "stdout",
          "text": [
            "<class 'str'>\n",
            "<class 'int'>\n",
            "<class 'int'>\n",
            "<class 'int'>\n",
            "<class 'complex'>\n"
          ]
        }
      ]
    },
    {
      "cell_type": "code",
      "source": [
        "# menampilan tipe data\n",
        "print(type(kalimat2))\n",
        "print(type(bilangan5))\n",
        "print(type(bilangan6))\n",
        "print(type(bilangan7))\n",
        "print(type(bilangan8))"
      ],
      "metadata": {
        "id": "UBeDACokpEyw",
        "colab": {
          "base_uri": "https://localhost:8080/"
        },
        "outputId": "7d18867f-8c24-4524-9565-5e5893c9e9e4"
      },
      "execution_count": 24,
      "outputs": [
        {
          "output_type": "stream",
          "name": "stdout",
          "text": [
            "<class 'str'>\n",
            "<class 'int'>\n",
            "<class 'int'>\n",
            "<class 'int'>\n",
            "<class 'complex'>\n"
          ]
        }
      ]
    },
    {
      "cell_type": "code",
      "source": [
        "# menampilan tipe data\n",
        "print(type(kalimat3))\n",
        "print(type(bilangan9))\n",
        "print(type(bilangan10))\n",
        "print(type(bilangan11))\n",
        "print(type(bilangan12))"
      ],
      "metadata": {
        "id": "ruU5m74QpE_L",
        "colab": {
          "base_uri": "https://localhost:8080/"
        },
        "outputId": "c036db6e-2f08-4713-b5d2-d5f880121a5b"
      },
      "execution_count": 25,
      "outputs": [
        {
          "output_type": "stream",
          "name": "stdout",
          "text": [
            "<class 'str'>\n",
            "<class 'int'>\n",
            "<class 'int'>\n",
            "<class 'int'>\n",
            "<class 'complex'>\n"
          ]
        }
      ]
    },
    {
      "cell_type": "code",
      "source": [
        "# menampilan tipe data\n",
        "print(type(kalimat4))\n",
        "print(type(bilangan13))\n",
        "print(type(bilangan14))\n",
        "print(type(bilangan15))\n",
        "print(type(bilangan16))"
      ],
      "metadata": {
        "colab": {
          "base_uri": "https://localhost:8080/"
        },
        "id": "sSKk3RPxvlLL",
        "outputId": "b85e0d7c-e82b-43bd-ca23-cf79568c0c87"
      },
      "execution_count": 26,
      "outputs": [
        {
          "output_type": "stream",
          "name": "stdout",
          "text": [
            "<class 'str'>\n",
            "<class 'int'>\n",
            "<class 'int'>\n",
            "<class 'int'>\n",
            "<class 'complex'>\n"
          ]
        }
      ]
    },
    {
      "cell_type": "code",
      "source": [
        "# menampilan tipe data\n",
        "print(type(kalimat5))\n",
        "print(type(bilangan17))\n",
        "print(type(bilangan18))\n",
        "print(type(bilangan19))\n",
        "print(type(bilangan20))"
      ],
      "metadata": {
        "colab": {
          "base_uri": "https://localhost:8080/"
        },
        "id": "YJ9jBHY7vlRk",
        "outputId": "0ccb7388-2202-4774-fd72-06e12c891ce4"
      },
      "execution_count": 27,
      "outputs": [
        {
          "output_type": "stream",
          "name": "stdout",
          "text": [
            "<class 'str'>\n",
            "<class 'int'>\n",
            "<class 'int'>\n",
            "<class 'int'>\n",
            "<class 'complex'>\n"
          ]
        }
      ]
    },
    {
      "cell_type": "code",
      "source": [
        "# Latihan 3"
      ],
      "metadata": {
        "id": "IiQ7ITD1vu79"
      },
      "execution_count": 28,
      "outputs": []
    },
    {
      "cell_type": "code",
      "source": [
        "# Variabel 1"
      ],
      "metadata": {
        "id": "UuzUvD63ymIV"
      },
      "execution_count": 29,
      "outputs": []
    },
    {
      "cell_type": "code",
      "source": [
        "# konversi tipe data integer\n",
        "print(int(bilangan2))\n",
        "print(int(bilangan3))\n",
        "\n",
        "# konversi tipe data float\n",
        "print(float(bilangan1))\n",
        "print(float(bilangan2))\n",
        "\n",
        "# konversi type data string\n",
        "print(str(bilangan1))\n",
        "print(str(bilangan2))\n",
        "print(str(bilangan3))\n",
        "\n",
        "# konversi tipe data bool\n",
        "print(bool(bilangan1))\n",
        "print(bool(bilangan2))\n",
        "\n",
        "# konversi type data complex\n",
        "print(complex(bilangan1))\n",
        "print(complex(bilangan2))\n",
        "print(complex(bilangan3))"
      ],
      "metadata": {
        "colab": {
          "base_uri": "https://localhost:8080/"
        },
        "id": "D4cMHizWvvHN",
        "outputId": "896333da-c8e4-4cab-b27e-b6605eaccfce"
      },
      "execution_count": 30,
      "outputs": [
        {
          "output_type": "stream",
          "name": "stdout",
          "text": [
            "6\n",
            "8\n",
            "2.0\n",
            "6.0\n",
            "2\n",
            "6\n",
            "8\n",
            "True\n",
            "True\n",
            "(2+0j)\n",
            "(6+0j)\n",
            "(8+0j)\n"
          ]
        }
      ]
    },
    {
      "cell_type": "code",
      "source": [
        "# Variabel 2"
      ],
      "metadata": {
        "id": "XTuKwz3lvvMu"
      },
      "execution_count": 31,
      "outputs": []
    },
    {
      "cell_type": "code",
      "source": [
        "# konversi tipe data integer\n",
        "print(int(bilangan6))\n",
        "print(int(bilangan7))\n",
        "\n",
        "# konversi tipe data float\n",
        "print(float(bilangan5))\n",
        "print(float(bilangan6))\n",
        "\n",
        "# konversi type data string\n",
        "print(str(bilangan5))\n",
        "print(str(bilangan6))\n",
        "print(str(bilangan7))\n",
        "\n",
        "# konversi tipe data bool\n",
        "print(bool(bilangan5))\n",
        "print(bool(bilangan6))\n",
        "\n",
        "# konversi type data complex\n",
        "print(complex(bilangan5))\n",
        "print(complex(bilangan6))\n",
        "print(complex(bilangan7))"
      ],
      "metadata": {
        "colab": {
          "base_uri": "https://localhost:8080/"
        },
        "id": "Fa2wPBZKvvR6",
        "outputId": "5bee7fce-1b87-41c0-9afa-178cf77fadfa"
      },
      "execution_count": 32,
      "outputs": [
        {
          "output_type": "stream",
          "name": "stdout",
          "text": [
            "5\n",
            "7\n",
            "3.0\n",
            "5.0\n",
            "3\n",
            "5\n",
            "7\n",
            "True\n",
            "True\n",
            "(3+0j)\n",
            "(5+0j)\n",
            "(7+0j)\n"
          ]
        }
      ]
    },
    {
      "cell_type": "code",
      "source": [
        "# Variabel 3"
      ],
      "metadata": {
        "id": "15BTja6zvvXp"
      },
      "execution_count": 33,
      "outputs": []
    },
    {
      "cell_type": "code",
      "source": [
        "# konversi tipe data integer\n",
        "print(int(bilangan10))\n",
        "print(int(bilangan11))\n",
        "\n",
        "# konversi tipe data float\n",
        "print(float(bilangan9))\n",
        "print(float(bilangan10))\n",
        "\n",
        "# konversi type data string\n",
        "print(str(bilangan9))\n",
        "print(str(bilangan10))\n",
        "print(str(bilangan11))\n",
        "\n",
        "# konversi tipe data bool\n",
        "print(bool(bilangan9))\n",
        "print(bool(bilangan10))\n",
        "\n",
        "# konversi type data complex\n",
        "print(complex(bilangan9))\n",
        "print(complex(bilangan10))\n",
        "print(complex(bilangan11))"
      ],
      "metadata": {
        "colab": {
          "base_uri": "https://localhost:8080/"
        },
        "id": "N_ZUhHuDvvdz",
        "outputId": "94ee1bbd-1132-4ff0-85b1-9ac74304166a"
      },
      "execution_count": 34,
      "outputs": [
        {
          "output_type": "stream",
          "name": "stdout",
          "text": [
            "12\n",
            "14\n",
            "10.0\n",
            "12.0\n",
            "10\n",
            "12\n",
            "14\n",
            "True\n",
            "True\n",
            "(10+0j)\n",
            "(12+0j)\n",
            "(14+0j)\n"
          ]
        }
      ]
    },
    {
      "cell_type": "code",
      "source": [
        "# Variabel 4"
      ],
      "metadata": {
        "id": "BtQshEf1z0xe"
      },
      "execution_count": 35,
      "outputs": []
    },
    {
      "cell_type": "code",
      "source": [
        "# konversi tipe data integer\n",
        "print(int(bilangan14))\n",
        "print(int(bilangan15))\n",
        "\n",
        "# konversi tipe data float\n",
        "print(float(bilangan13))\n",
        "print(float(bilangan14))\n",
        "\n",
        "# konversi type data string\n",
        "print(str(bilangan13))\n",
        "print(str(bilangan14))\n",
        "print(str(bilangan15))\n",
        "\n",
        "# konversi tipe data bool\n",
        "print(bool(bilangan13))\n",
        "print(bool(bilangan14))\n",
        "\n",
        "# konversi type data complex\n",
        "print(complex(bilangan13))\n",
        "print(complex(bilangan14))\n",
        "print(complex(bilangan15))"
      ],
      "metadata": {
        "colab": {
          "base_uri": "https://localhost:8080/"
        },
        "id": "BMMOVTM8z1Ik",
        "outputId": "01d417dd-4ca2-4b17-9aef-f3d00be90251"
      },
      "execution_count": 36,
      "outputs": [
        {
          "output_type": "stream",
          "name": "stdout",
          "text": [
            "20\n",
            "25\n",
            "15.0\n",
            "20.0\n",
            "15\n",
            "20\n",
            "25\n",
            "True\n",
            "True\n",
            "(15+0j)\n",
            "(20+0j)\n",
            "(25+0j)\n"
          ]
        }
      ]
    },
    {
      "cell_type": "code",
      "source": [
        "# Variabel 5"
      ],
      "metadata": {
        "id": "X9SOcYNpz1be"
      },
      "execution_count": 37,
      "outputs": []
    },
    {
      "cell_type": "code",
      "source": [
        "# konversi tipe data integer\n",
        "print(int(bilangan18))\n",
        "print(int(bilangan19))\n",
        "\n",
        "# konversi tipe data float\n",
        "print(float(bilangan17))\n",
        "print(float(bilangan18))\n",
        "\n",
        "# konversi type data string\n",
        "print(str(bilangan17))\n",
        "print(str(bilangan18))\n",
        "print(str(bilangan19))\n",
        "\n",
        "# konversi tipe data bool\n",
        "print(bool(bilangan17))\n",
        "print(bool(bilangan18))\n",
        "\n",
        "# konversi type data complex\n",
        "print(complex(bilangan17))\n",
        "print(complex(bilangan18))\n",
        "print(complex(bilangan19))"
      ],
      "metadata": {
        "colab": {
          "base_uri": "https://localhost:8080/"
        },
        "id": "yIaFtaEG0Ztj",
        "outputId": "8ff80a10-c511-4235-84d9-c2b5b44df6ad"
      },
      "execution_count": 38,
      "outputs": [
        {
          "output_type": "stream",
          "name": "stdout",
          "text": [
            "100\n",
            "150\n",
            "50.0\n",
            "100.0\n",
            "50\n",
            "100\n",
            "150\n",
            "True\n",
            "True\n",
            "(50+0j)\n",
            "(100+0j)\n",
            "(150+0j)\n"
          ]
        }
      ]
    }
  ]
}